{
 "cells": [
  {
   "cell_type": "code",
   "execution_count": 1,
   "id": "896567f9-672b-4a08-846f-2bbdc7a92de8",
   "metadata": {},
   "outputs": [
    {
     "data": {
      "text/plain": [
       "'C:\\\\Users\\\\jerom'"
      ]
     },
     "execution_count": 1,
     "metadata": {},
     "output_type": "execute_result"
    }
   ],
   "source": [
    "import os\n",
    "os.getcwd()"
   ]
  },
  {
   "cell_type": "code",
   "execution_count": 3,
   "id": "5112cb3b-4006-4fc3-bbe7-9b11db47007f",
   "metadata": {},
   "outputs": [],
   "source": [
    "!pip install openai langchain langchain-openai \\\n",
    "email-validator python-dotenv mailjet_rest --quiet\n"
   ]
  },
  {
   "cell_type": "code",
   "execution_count": 4,
   "id": "b74ad148-0856-4713-8290-ec7ee845e411",
   "metadata": {},
   "outputs": [
    {
     "name": "stdout",
     "output_type": "stream",
     "text": [
      "✅ Données récupérées avec succès\n",
      "{'current': {'cloud': 0,\n",
      "             'precip_mm': 0.0,\n",
      "             'temp_c': 25.3,\n",
      "             'uv': 1.5,\n",
      "             'wind_kph': 9.0},\n",
      " 'location': {'country': 'France',\n",
      "              'lat': 43.95,\n",
      "              'localtime': '2025-08-05 09:57',\n",
      "              'localtime_epoch': 1754380632,\n",
      "              'lon': 4.817,\n",
      "              'name': 'Avignon',\n",
      "              'region': \"Provence-Alpes-Cote d'Azur\",\n",
      "              'tz_id': 'Europe/Paris'}}\n",
      "Couverture nuageuse : 0%, Pluies : 0.0 mm, Température : 25.3 degrés Celsius, Indice UV : 1.5, Vent : 9.0 km/h\n"
     ]
    }
   ],
   "source": [
    "import requests, pprint\n",
    "\n",
    "#URL complète avec la clé API et les coordonnées ici la clé API n'est pas sensible (gratuite, et de toute façon on travaille en GET)\n",
    "url = \"http://api.weatherapi.com/v1/current.json?key=98adae444b4947a3a4e91950250905&q=43.937,4.813&aqi=no\"\n",
    "\n",
    "# Requête GET\n",
    "response = requests.get(url)\n",
    "\n",
    "# Vérification\n",
    "if response.status_code == 200:\n",
    "    weather_json = response.json()\n",
    "    print(\"✅ Données récupérées avec succès\")\n",
    "else:\n",
    "    print(f\"❌ Erreur {response.status_code} lors de la requête\")\n",
    "\n",
    "pprint.pprint(weather_json)\n",
    "\n",
    "def format_meteo_phrase(weather_json):\n",
    "    # Extraction des données\n",
    "    cloud = weather_json[\"current\"][\"cloud\"]\n",
    "    precip = weather_json[\"current\"][\"precip_mm\"]\n",
    "    temp = weather_json[\"current\"][\"temp_c\"]\n",
    "    uv = weather_json[\"current\"][\"uv\"]\n",
    "    wind = weather_json[\"current\"][\"wind_kph\"]\n",
    "\n",
    "    # Construction de la phrase\n",
    "    phrase = (\n",
    "        f\"Couverture nuageuse : {cloud}%, \"\n",
    "        f\"Pluies : {precip} mm, \"\n",
    "        f\"Température : {temp} degrés Celsius, \"\n",
    "        f\"Indice UV : {uv}, \"\n",
    "        f\"Vent : {wind} km/h\"\n",
    "    )\n",
    "\n",
    "    return phrase\n",
    "\n",
    "# Génération de la phrase météo\n",
    "meteo_phrase = format_meteo_phrase(weather_json)\n",
    "print(meteo_phrase)"
   ]
  },
  {
   "cell_type": "code",
   "execution_count": 10,
   "id": "6e01cb24-5e0c-41c1-9d81-c874f978147f",
   "metadata": {},
   "outputs": [
    {
     "name": "stdout",
     "output_type": "stream",
     "text": [
      "✅ Clé API chargée avec succès\n"
     ]
    }
   ],
   "source": [
    "import os\n",
    "from dotenv import load_dotenv\n",
    "\n",
    "# Chargement explicite du fichier\n",
    "load_dotenv(dotenv_path=\"ENV/env.txt\")\n",
    "\n",
    "# Récupération propre de la clé\n",
    "openai.api_key = os.getenv(\"OPENAI_API_KEY\")\n",
    "\n",
    "# Vérification\n",
    "assert openai.api_key is not None, \"❌ Clé API non trouvée dans ENV/env.txt\"\n",
    "print(\"✅ Clé API chargée avec succès\")\n",
    "\n"
   ]
  },
  {
   "cell_type": "code",
   "execution_count": 12,
   "id": "2d75d50f-2d4e-461e-b971-b719af37d45a",
   "metadata": {},
   "outputs": [
    {
     "name": "stdout",
     "output_type": "stream",
     "text": [
      "📄 Bulletin météo généré :\n",
      "\n",
      "Bienvenue à Avignon pour ce lundi 5 août 2025. Actuellement, la température est de 25.3 °C avec un vent de 9.0 km/h. Aucune précipitation n'est prévue avec une couverture nuageuse de 0 %. L'indice UV est de 1.5, veillez à rester protégé du soleil si vous sortez.\n"
     ]
    }
   ],
   "source": [
    "# Extraction des variables\n",
    "location = weather_json[\"location\"][\"name\"]\n",
    "temp = weather_json[\"current\"][\"temp_c\"]\n",
    "wind = weather_json[\"current\"][\"wind_kph\"]\n",
    "precip = weather_json[\"current\"][\"precip_mm\"]\n",
    "cloud = weather_json[\"current\"][\"cloud\"]\n",
    "uv = weather_json[\"current\"][\"uv\"]\n",
    "time = weather_json[\"location\"][\"localtime\"]\n",
    "\n",
    "# Appel à OpenAI avec prompt structuré\n",
    "client = openai.OpenAI()\n",
    "\n",
    "response = client.chat.completions.create(\n",
    "    model=\"gpt-3.5-turbo\",\n",
    "    messages=[\n",
    "        {\n",
    "            \"role\": \"system\",\n",
    "            \"content\": \"Tu es une IA experte en météorologie. Tu génères un bulletin météo professionnel, clair, synthétique et compréhensible, à partir des données brutes fournies. Mentionne la ville, la date, et les conditions météorologiques de manière fluide. Ne répète pas les unités si elles sont déjà claires dans la phrase.\"\n",
    "        },\n",
    "        {\n",
    "            \"role\": \"user\",\n",
    "            \"content\": f\"\"\"\n",
    "Voici les données météo à utiliser :\n",
    "\n",
    "- Lieu : {location}\n",
    "- Date et heure locale : {time}\n",
    "- Température : {temp} °C\n",
    "- Vent : {wind} km/h\n",
    "- Précipitations : {precip} mm\n",
    "- Couverture nuageuse : {cloud} %\n",
    "- Indice UV : {uv}\n",
    "\n",
    "Peux-tu rédiger un bulletin météo court et professionnel ?\n",
    "\"\"\"\n",
    "        }\n",
    "    ]\n",
    ")\n",
    "\n",
    "# Affichage du résultat\n",
    "bulletin = response.choices[0].message.content\n",
    "print(\"📄 Bulletin météo généré :\\n\")\n",
    "print(bulletin)"
   ]
  },
  {
   "cell_type": "code",
   "execution_count": 13,
   "id": "5aa209ec-597e-4389-aa25-53dd95cef6e4",
   "metadata": {},
   "outputs": [
    {
     "name": "stdout",
     "output_type": "stream",
     "text": [
      "✅ Email envoyé avec succès\n"
     ]
    }
   ],
   "source": [
    "# --- Vérification adresse e-mail ---\n",
    "import email_validator\n",
    "from mailjet_rest import Client\n",
    "\n",
    "# Récupération des variables d’environnement\n",
    "\n",
    "load_dotenv(dotenv_path=\"ENV/env.txt\")\n",
    "\n",
    "mj_api_key = os.getenv(\"MJ_API_KEY_PUBLIC\")\n",
    "mj_api_secret = os.getenv(\"MJ_API_KEY_PRIVATE\")\n",
    "expediteur = os.getenv(\"MJ_FROM_EMAIL\")  # ← à ajouter dans env.txt\n",
    "destinataire = os.getenv(\"MJ_TO_EMAIL\")  # ← à ajouter dans env.txt\n",
    "\n",
    "# Validation des adresses email\n",
    "for email in [expediteur, destinataire]:\n",
    "    try:\n",
    "        email_validator.validate_email(email)\n",
    "    except email_validator.EmailNotValidError as e:\n",
    "        raise ValueError(f\"Adresse email non valide : {email} → {e}\")\n",
    "\n",
    "# Création du client Mailjet\n",
    "mj = Client(auth=(mj_api_key, mj_api_secret), version='v3.1')\n",
    "\n",
    "# Envoi du mail\n",
    "data = {\n",
    "    'Messages': [\n",
    "        {\n",
    "            \"From\": {\n",
    "                \"Email\": expediteur,\n",
    "                \"Name\": \"Bulletin Météo Automatique\"\n",
    "            },\n",
    "            \"To\": [{\"Email\": destinataire}],\n",
    "            \"Subject\": f\"Bulletin météo – {location} – {time.split(' ')[0]}\",\n",
    "            \"TextPart\": bulletin,\n",
    "            \"HTMLPart\": f\"<h3>Bulletin météo – {location}</h3><p>{bulletin.replace(chr(10), '<br>')}</p>\"\n",
    "        }\n",
    "    ]\n",
    "}\n",
    "\n",
    "result = mj.send.create(data=data)\n",
    "\n",
    "if result.status_code == 200:\n",
    "    print(\"✅ Email envoyé avec succès\")\n",
    "else:\n",
    "    print(f\"❌ Échec envoi : {result.status_code} / {result.json()}\")\n"
   ]
  },
  {
   "cell_type": "code",
   "execution_count": null,
   "id": "20f7e591-728e-4ca9-b354-44d157211a4a",
   "metadata": {},
   "outputs": [],
   "source": []
  }
 ],
 "metadata": {
  "kernelspec": {
   "display_name": "Python 3 (ipykernel)",
   "language": "python",
   "name": "python3"
  },
  "language_info": {
   "codemirror_mode": {
    "name": "ipython",
    "version": 3
   },
   "file_extension": ".py",
   "mimetype": "text/x-python",
   "name": "python",
   "nbconvert_exporter": "python",
   "pygments_lexer": "ipython3",
   "version": "3.12.7"
  }
 },
 "nbformat": 4,
 "nbformat_minor": 5
}
