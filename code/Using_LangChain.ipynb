{
 "cells": [
  {
   "cell_type": "code",
   "execution_count": 6,
   "id": "87c7c482-f418-4016-ab81-d5985d73619f",
   "metadata": {},
   "outputs": [],
   "source": [
    "!pip install langchain-community --quiet"
   ]
  },
  {
   "cell_type": "code",
   "execution_count": 7,
   "id": "e589965e-68de-4f51-955f-04e34a219fe1",
   "metadata": {},
   "outputs": [
    {
     "data": {
      "text/plain": [
       "True"
      ]
     },
     "execution_count": 7,
     "metadata": {},
     "output_type": "execute_result"
    }
   ],
   "source": [
    "from dotenv import load_dotenv\n",
    "load_dotenv(dotenv_path=\"ENV/env.txt\")\n"
   ]
  },
  {
   "cell_type": "code",
   "execution_count": 8,
   "id": "3b81f783-cccd-4e68-ba62-ed83dfbcc63b",
   "metadata": {},
   "outputs": [
    {
     "name": "stdout",
     "output_type": "stream",
     "text": [
      "✅ Données récupérées avec succès\n",
      "{'current': {'cloud': 0,\n",
      "             'precip_mm': 0.0,\n",
      "             'temp_c': 27.2,\n",
      "             'uv': 5.2,\n",
      "             'wind_kph': 11.9},\n",
      " 'location': {'country': 'France',\n",
      "              'lat': 43.95,\n",
      "              'localtime': '2025-08-05 11:06',\n",
      "              'localtime_epoch': 1754384789,\n",
      "              'lon': 4.817,\n",
      "              'name': 'Avignon',\n",
      "              'region': \"Provence-Alpes-Cote d'Azur\",\n",
      "              'tz_id': 'Europe/Paris'}}\n",
      "Couverture nuageuse : 0%, Pluies : 0.0 mm, Température : 27.2 degrés Celsius, Indice UV : 5.2, Vent : 11.9 km/h\n"
     ]
    }
   ],
   "source": [
    "import requests, pprint\n",
    "\n",
    "#URL complète avec la clé API et les coordonnées ici la clé API n'est pas sensible (gratuite, et de toute façon on travaille en GET)\n",
    "url = \"http://api.weatherapi.com/v1/current.json?key=98adae444b4947a3a4e91950250905&q=43.937,4.813&aqi=no\"\n",
    "\n",
    "# Requête GET\n",
    "response = requests.get(url)\n",
    "\n",
    "# Vérification\n",
    "if response.status_code == 200:\n",
    "    weather_json = response.json()\n",
    "    print(\"✅ Données récupérées avec succès\")\n",
    "else:\n",
    "    print(f\"❌ Erreur {response.status_code} lors de la requête\")\n",
    "\n",
    "pprint.pprint(weather_json)\n",
    "\n",
    "def format_meteo_phrase(weather_json):\n",
    "    # Extraction des données\n",
    "    cloud = weather_json[\"current\"][\"cloud\"]\n",
    "    precip = weather_json[\"current\"][\"precip_mm\"]\n",
    "    temp = weather_json[\"current\"][\"temp_c\"]\n",
    "    uv = weather_json[\"current\"][\"uv\"]\n",
    "    wind = weather_json[\"current\"][\"wind_kph\"]\n",
    "\n",
    "    # Construction de la phrase\n",
    "    phrase = (\n",
    "        f\"Couverture nuageuse : {cloud}%, \"\n",
    "        f\"Pluies : {precip} mm, \"\n",
    "        f\"Température : {temp} degrés Celsius, \"\n",
    "        f\"Indice UV : {uv}, \"\n",
    "        f\"Vent : {wind} km/h\"\n",
    "    )\n",
    "\n",
    "    return phrase\n",
    "\n",
    "# Génération de la phrase météo\n",
    "meteo_phrase = format_meteo_phrase(weather_json)\n",
    "print(meteo_phrase)"
   ]
  },
  {
   "cell_type": "code",
   "execution_count": 12,
   "id": "de47b820-f381-4c5c-8e58-84dcf752cfa4",
   "metadata": {},
   "outputs": [],
   "source": [
    "# Extraction des variables\n",
    "location = weather_json[\"location\"][\"name\"]\n",
    "temp = weather_json[\"current\"][\"temp_c\"]\n",
    "wind = weather_json[\"current\"][\"wind_kph\"]\n",
    "precip = weather_json[\"current\"][\"precip_mm\"]\n",
    "cloud = weather_json[\"current\"][\"cloud\"]\n",
    "uv = weather_json[\"current\"][\"uv\"]\n",
    "time = weather_json[\"location\"][\"localtime\"]"
   ]
  },
  {
   "cell_type": "code",
   "execution_count": 50,
   "id": "947624cb-c049-4b15-bc74-5af61b1e7f74",
   "metadata": {},
   "outputs": [],
   "source": [
    "from langchain.chains import LLMChain\n",
    "from langchain.chat_models import ChatOpenAI\n",
    "from langchain.prompts import ChatPromptTemplate\n",
    "\n",
    "prompt = ChatPromptTemplate.from_template(\"Rédige un bulletin pour Lieu : {location}, Date et heure : {time} avec {temp}°C, vent {wind} km/h, précipitations {precip} mm, couverture nuageuse {cloud} %, indice UV : {uv} UV. Important : commenter seulement le temps observé mais ne parles pas de ce qui est prévu. Ne précises pas si des précipitations sont attendues. Ajoute un conseil si nécessaire.\")\n",
    "llm = ChatOpenAI(model=\"gpt-3.5-turbo\")\n",
    "chain = LLMChain(llm=llm, prompt=prompt)\n",
    "\n",
    "variables = {\n",
    "    \"location\": location,\n",
    "    \"time\": time,\n",
    "    \"temp\": temp,\n",
    "    \"wind\": wind,\n",
    "    \"precip\": precip,\n",
    "    \"cloud\": cloud,\n",
    "    \"uv\": uv\n",
    "}\n",
    "\n",
    "result = chain.run(**variables)\n",
    "\n"
   ]
  },
  {
   "cell_type": "code",
   "execution_count": 51,
   "id": "c25078c5-003c-46f1-808d-1c0a01fb3bda",
   "metadata": {},
   "outputs": [
    {
     "name": "stdout",
     "output_type": "stream",
     "text": [
      "Bulletin météo pour Avignon, le 5 août 2025 à 11h06 :\n",
      "\n",
      "Actuellement, il fait 27.2°C à Avignon avec un vent soufflant à 11.9 km/h. Le ciel est dégagé avec une couverture nuageuse de 0 %. L'indice UV est de 5.2 UV.\n",
      "\n",
      "Conseil : Avec un indice UV élevé, il est recommandé de bien se protéger du soleil en utilisant de la crème solaire et en portant un chapeau.\n"
     ]
    }
   ],
   "source": [
    "print(result)"
   ]
  },
  {
   "cell_type": "code",
   "execution_count": null,
   "id": "eaf07291-b686-4029-acad-19db7fb0e9fa",
   "metadata": {},
   "outputs": [],
   "source": []
  }
 ],
 "metadata": {
  "kernelspec": {
   "display_name": "Python 3 (ipykernel)",
   "language": "python",
   "name": "python3"
  },
  "language_info": {
   "codemirror_mode": {
    "name": "ipython",
    "version": 3
   },
   "file_extension": ".py",
   "mimetype": "text/x-python",
   "name": "python",
   "nbconvert_exporter": "python",
   "pygments_lexer": "ipython3",
   "version": "3.12.7"
  }
 },
 "nbformat": 4,
 "nbformat_minor": 5
}
